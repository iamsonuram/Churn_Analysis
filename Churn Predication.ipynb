{
 "cells": [
  {
   "cell_type": "markdown",
   "id": "d5f6ff36-6f31-4430-9372-a085eaf6eb34",
   "metadata": {},
   "source": [
    "# Importing Libraries & Data Load"
   ]
  },
  {
   "cell_type": "code",
   "execution_count": 3,
   "id": "6434d48f-cdc4-44fc-9353-c8440dc16292",
   "metadata": {},
   "outputs": [],
   "source": [
    "import pandas as pd\n",
    "import numpy as np\n",
    "import matplotlib.pyplot as plt\n",
    "import seaborn as sns\n",
    "from sklearn.model_selection import train_test_split\n",
    "from sklearn.ensemble import RandomForestClassifier\n",
    "from sklearn.metrics import classification_report, confusion_matrix\n",
    "from sklearn.preprocessing import LabelEncoder\n",
    "import joblib"
   ]
  },
  {
   "cell_type": "markdown",
   "id": "cdce6188-f795-4282-94d1-751c54a40560",
   "metadata": {},
   "source": [
    "## Define the path to the Excel file"
   ]
  },
  {
   "cell_type": "code",
   "execution_count": 6,
   "id": "c4858721-a2b8-4276-8b34-ed621abd69cc",
   "metadata": {},
   "outputs": [],
   "source": [
    "file_path = \"Prediction_Data.xlsx\""
   ]
  },
  {
   "cell_type": "markdown",
   "id": "a69b34c0-d964-4149-92e7-5bfdf338552c",
   "metadata": {},
   "source": [
    "## Define the sheet name to read data from"
   ]
  },
  {
   "cell_type": "code",
   "execution_count": 9,
   "id": "81daa2b5-7f3f-4833-8efe-585746e80fca",
   "metadata": {},
   "outputs": [],
   "source": [
    "sheet_name = 'vw_ChurnData'"
   ]
  },
  {
   "cell_type": "markdown",
   "id": "63759309-5775-4d18-abbc-10890925a79d",
   "metadata": {},
   "source": [
    "## Read the data from the specified sheet into a pandas DataFrame"
   ]
  },
  {
   "cell_type": "code",
   "execution_count": 12,
   "id": "edca09b2-6f7e-4850-8f53-ebdb80befcdd",
   "metadata": {},
   "outputs": [],
   "source": [
    "data = pd.read_excel(file_path, sheet_name=sheet_name)"
   ]
  },
  {
   "cell_type": "markdown",
   "id": "1b77384d-ce93-4a0e-aa1e-6d7db7477dd6",
   "metadata": {},
   "source": [
    "## Display the first few rows of the fetched data"
   ]
  },
  {
   "cell_type": "code",
   "execution_count": 15,
   "id": "1ccd8fe3-1c6a-4870-9c39-8d70e36292a1",
   "metadata": {},
   "outputs": [
    {
     "name": "stdout",
     "output_type": "stream",
     "text": [
      "  Customer_ID  Gender  Age Married         State  Number_of_Referrals  \\\n",
      "0   92887-CHH  Female   69     Yes  Chhattisgarh                    1   \n",
      "1   92894-MAH  Female   37      No   Maharashtra                    3   \n",
      "2   92904-KAR    Male   34      No     Karnataka                    3   \n",
      "3   92923-JHA    Male   72      No     Jharkhand                   10   \n",
      "4   92945-TEL    Male   47     Yes     Telangana                    0   \n",
      "\n",
      "   Tenure_in_Months Value_Deal Phone_Service Multiple_Lines  ...  \\\n",
      "0                11     Deal 5           Yes             No  ...   \n",
      "1                19        NaN           Yes            Yes  ...   \n",
      "2                26        NaN           Yes            Yes  ...   \n",
      "3                27     Deal 4           Yes             No  ...   \n",
      "4                21        NaN           Yes            Yes  ...   \n",
      "\n",
      "    Payment_Method Monthly_Charge Total_Charges Total_Refunds  \\\n",
      "0  Bank Withdrawal      70.550003     70.550003      0.000000   \n",
      "1  Bank Withdrawal     101.050003   5971.250000      0.000000   \n",
      "2      Credit Card     103.199997   7362.899902     45.380001   \n",
      "3  Bank Withdrawal      90.000000   2024.099976      0.000000   \n",
      "4  Bank Withdrawal     100.300003   4222.950195      0.000000   \n",
      "\n",
      "  Total_Extra_Data_Charges Total_Long_Distance_Charges Total_Revenue  \\\n",
      "0                        0                   18.200001     88.750000   \n",
      "1                        0                 1066.890015   7038.140137   \n",
      "2                        0                 2135.520020   9453.040039   \n",
      "3                        0                  725.190002   2749.290039   \n",
      "4                        0                 1078.979980   5301.930176   \n",
      "\n",
      "  Customer_Status Churn_Category                  Churn_Reason  \n",
      "0         Churned       Attitude  Attitude of service provider  \n",
      "1          Stayed         Others                        Others  \n",
      "2          Stayed         Others                        Others  \n",
      "3          Stayed         Others                        Others  \n",
      "4          Stayed         Others                        Others  \n",
      "\n",
      "[5 rows x 32 columns]\n"
     ]
    }
   ],
   "source": [
    "print(data.head())"
   ]
  },
  {
   "cell_type": "markdown",
   "id": "93f3334f-cf1b-45eb-8975-43a1fc053c76",
   "metadata": {},
   "source": [
    "# Data Preprocessing "
   ]
  },
  {
   "cell_type": "markdown",
   "id": "da7e3249-d96a-4d0c-a1a3-a19a81aeb912",
   "metadata": {},
   "source": [
    "## Drop columns that won't be used for prediction"
   ]
  },
  {
   "cell_type": "code",
   "execution_count": 24,
   "id": "6aa39b7c-d039-4ec8-97d0-f7e3cdba1a19",
   "metadata": {},
   "outputs": [],
   "source": [
    "data = data.drop(['Customer_ID', 'Churn_Category', 'Churn_Reason'], axis=1)"
   ]
  },
  {
   "cell_type": "markdown",
   "id": "106312fd-f171-4ad6-983d-359bbe4ed56f",
   "metadata": {},
   "source": [
    "## List of columns to be label encoded"
   ]
  },
  {
   "cell_type": "code",
   "execution_count": 27,
   "id": "29577e0c-af54-45ee-b423-3e62a6844005",
   "metadata": {},
   "outputs": [],
   "source": [
    "columns_to_encode = [\n",
    "    'Gender', 'Married', 'State', 'Value_Deal', 'Phone_Service', 'Multiple_Lines',\n",
    "    'Internet_Service', 'Internet_Type', 'Online_Security', 'Online_Backup',\n",
    "    'Device_Protection_Plan', 'Premium_Support', 'Streaming_TV', 'Streaming_Movies',\n",
    "    'Streaming_Music', 'Unlimited_Data', 'Contract', 'Paperless_Billing',\n",
    "    'Payment_Method'\n",
    "]"
   ]
  },
  {
   "cell_type": "markdown",
   "id": "d2a498b3-5051-425f-add0-d44e5b9fcad8",
   "metadata": {},
   "source": [
    "## Encode categorical variables except the target variable"
   ]
  },
  {
   "cell_type": "code",
   "execution_count": 30,
   "id": "48a33fa5-5990-4bf1-894e-bf1107c7fac3",
   "metadata": {},
   "outputs": [],
   "source": [
    "label_encoders = {}\n",
    "for column in columns_to_encode:\n",
    "    label_encoders[column] = LabelEncoder()\n",
    "    data[column] = label_encoders[column].fit_transform(data[column])"
   ]
  },
  {
   "cell_type": "markdown",
   "id": "9b1d5b15-482e-4c7d-9cf9-d4ad43683519",
   "metadata": {},
   "source": [
    "## Manually encode the target variable 'Customer_Status'"
   ]
  },
  {
   "cell_type": "code",
   "execution_count": 33,
   "id": "dcb328fe-30ec-467a-8745-3f65c4698b3d",
   "metadata": {},
   "outputs": [],
   "source": [
    "data['Customer_Status'] = data['Customer_Status'].map({'Stayed': 0, 'Churned': 1})"
   ]
  },
  {
   "cell_type": "markdown",
   "id": "434bc95b-15e3-4f06-bbbe-c28bffd79cd7",
   "metadata": {},
   "source": [
    "## Split data into features and target"
   ]
  },
  {
   "cell_type": "code",
   "execution_count": 36,
   "id": "1277245e-da7a-4737-bbae-6dfc7598a73b",
   "metadata": {},
   "outputs": [],
   "source": [
    "X = data.drop('Customer_Status', axis=1)\n",
    "y = data['Customer_Status']"
   ]
  },
  {
   "cell_type": "markdown",
   "id": "1b022551-3006-45f3-80f3-5edb15648b84",
   "metadata": {},
   "source": [
    "## Split data into training and testing sets"
   ]
  },
  {
   "cell_type": "code",
   "execution_count": 39,
   "id": "7936413c-b771-495b-b4b7-b07b7e2388b4",
   "metadata": {},
   "outputs": [],
   "source": [
    "X_train, X_test, y_train, y_test = train_test_split(X, y, test_size=0.2, random_state=42)"
   ]
  },
  {
   "cell_type": "markdown",
   "id": "d920dc6a-2b64-45e9-9622-eec6765dedab",
   "metadata": {},
   "source": [
    "# Train Random Forest Model"
   ]
  },
  {
   "cell_type": "markdown",
   "id": "24b2d899-fbd0-410c-94da-2968dd5296c5",
   "metadata": {},
   "source": [
    "## Initialize the Random Forest Classifier"
   ]
  },
  {
   "cell_type": "code",
   "execution_count": 43,
   "id": "efbf0a5f-49f1-494f-ba29-a45e282d082c",
   "metadata": {},
   "outputs": [],
   "source": [
    "rf_model = RandomForestClassifier(n_estimators=100, random_state=42)"
   ]
  },
  {
   "cell_type": "markdown",
   "id": "99a1aebe-58ca-4e6b-ac76-03781044030b",
   "metadata": {},
   "source": [
    "## Train the model"
   ]
  },
  {
   "cell_type": "code",
   "execution_count": 46,
   "id": "6f9b6305-ed4d-4f2a-a4e6-3a9a784383ea",
   "metadata": {},
   "outputs": [
    {
     "data": {
      "text/html": [
       "<style>#sk-container-id-1 {\n",
       "  /* Definition of color scheme common for light and dark mode */\n",
       "  --sklearn-color-text: black;\n",
       "  --sklearn-color-line: gray;\n",
       "  /* Definition of color scheme for unfitted estimators */\n",
       "  --sklearn-color-unfitted-level-0: #fff5e6;\n",
       "  --sklearn-color-unfitted-level-1: #f6e4d2;\n",
       "  --sklearn-color-unfitted-level-2: #ffe0b3;\n",
       "  --sklearn-color-unfitted-level-3: chocolate;\n",
       "  /* Definition of color scheme for fitted estimators */\n",
       "  --sklearn-color-fitted-level-0: #f0f8ff;\n",
       "  --sklearn-color-fitted-level-1: #d4ebff;\n",
       "  --sklearn-color-fitted-level-2: #b3dbfd;\n",
       "  --sklearn-color-fitted-level-3: cornflowerblue;\n",
       "\n",
       "  /* Specific color for light theme */\n",
       "  --sklearn-color-text-on-default-background: var(--sg-text-color, var(--theme-code-foreground, var(--jp-content-font-color1, black)));\n",
       "  --sklearn-color-background: var(--sg-background-color, var(--theme-background, var(--jp-layout-color0, white)));\n",
       "  --sklearn-color-border-box: var(--sg-text-color, var(--theme-code-foreground, var(--jp-content-font-color1, black)));\n",
       "  --sklearn-color-icon: #696969;\n",
       "\n",
       "  @media (prefers-color-scheme: dark) {\n",
       "    /* Redefinition of color scheme for dark theme */\n",
       "    --sklearn-color-text-on-default-background: var(--sg-text-color, var(--theme-code-foreground, var(--jp-content-font-color1, white)));\n",
       "    --sklearn-color-background: var(--sg-background-color, var(--theme-background, var(--jp-layout-color0, #111)));\n",
       "    --sklearn-color-border-box: var(--sg-text-color, var(--theme-code-foreground, var(--jp-content-font-color1, white)));\n",
       "    --sklearn-color-icon: #878787;\n",
       "  }\n",
       "}\n",
       "\n",
       "#sk-container-id-1 {\n",
       "  color: var(--sklearn-color-text);\n",
       "}\n",
       "\n",
       "#sk-container-id-1 pre {\n",
       "  padding: 0;\n",
       "}\n",
       "\n",
       "#sk-container-id-1 input.sk-hidden--visually {\n",
       "  border: 0;\n",
       "  clip: rect(1px 1px 1px 1px);\n",
       "  clip: rect(1px, 1px, 1px, 1px);\n",
       "  height: 1px;\n",
       "  margin: -1px;\n",
       "  overflow: hidden;\n",
       "  padding: 0;\n",
       "  position: absolute;\n",
       "  width: 1px;\n",
       "}\n",
       "\n",
       "#sk-container-id-1 div.sk-dashed-wrapped {\n",
       "  border: 1px dashed var(--sklearn-color-line);\n",
       "  margin: 0 0.4em 0.5em 0.4em;\n",
       "  box-sizing: border-box;\n",
       "  padding-bottom: 0.4em;\n",
       "  background-color: var(--sklearn-color-background);\n",
       "}\n",
       "\n",
       "#sk-container-id-1 div.sk-container {\n",
       "  /* jupyter's `normalize.less` sets `[hidden] { display: none; }`\n",
       "     but bootstrap.min.css set `[hidden] { display: none !important; }`\n",
       "     so we also need the `!important` here to be able to override the\n",
       "     default hidden behavior on the sphinx rendered scikit-learn.org.\n",
       "     See: https://github.com/scikit-learn/scikit-learn/issues/21755 */\n",
       "  display: inline-block !important;\n",
       "  position: relative;\n",
       "}\n",
       "\n",
       "#sk-container-id-1 div.sk-text-repr-fallback {\n",
       "  display: none;\n",
       "}\n",
       "\n",
       "div.sk-parallel-item,\n",
       "div.sk-serial,\n",
       "div.sk-item {\n",
       "  /* draw centered vertical line to link estimators */\n",
       "  background-image: linear-gradient(var(--sklearn-color-text-on-default-background), var(--sklearn-color-text-on-default-background));\n",
       "  background-size: 2px 100%;\n",
       "  background-repeat: no-repeat;\n",
       "  background-position: center center;\n",
       "}\n",
       "\n",
       "/* Parallel-specific style estimator block */\n",
       "\n",
       "#sk-container-id-1 div.sk-parallel-item::after {\n",
       "  content: \"\";\n",
       "  width: 100%;\n",
       "  border-bottom: 2px solid var(--sklearn-color-text-on-default-background);\n",
       "  flex-grow: 1;\n",
       "}\n",
       "\n",
       "#sk-container-id-1 div.sk-parallel {\n",
       "  display: flex;\n",
       "  align-items: stretch;\n",
       "  justify-content: center;\n",
       "  background-color: var(--sklearn-color-background);\n",
       "  position: relative;\n",
       "}\n",
       "\n",
       "#sk-container-id-1 div.sk-parallel-item {\n",
       "  display: flex;\n",
       "  flex-direction: column;\n",
       "}\n",
       "\n",
       "#sk-container-id-1 div.sk-parallel-item:first-child::after {\n",
       "  align-self: flex-end;\n",
       "  width: 50%;\n",
       "}\n",
       "\n",
       "#sk-container-id-1 div.sk-parallel-item:last-child::after {\n",
       "  align-self: flex-start;\n",
       "  width: 50%;\n",
       "}\n",
       "\n",
       "#sk-container-id-1 div.sk-parallel-item:only-child::after {\n",
       "  width: 0;\n",
       "}\n",
       "\n",
       "/* Serial-specific style estimator block */\n",
       "\n",
       "#sk-container-id-1 div.sk-serial {\n",
       "  display: flex;\n",
       "  flex-direction: column;\n",
       "  align-items: center;\n",
       "  background-color: var(--sklearn-color-background);\n",
       "  padding-right: 1em;\n",
       "  padding-left: 1em;\n",
       "}\n",
       "\n",
       "\n",
       "/* Toggleable style: style used for estimator/Pipeline/ColumnTransformer box that is\n",
       "clickable and can be expanded/collapsed.\n",
       "- Pipeline and ColumnTransformer use this feature and define the default style\n",
       "- Estimators will overwrite some part of the style using the `sk-estimator` class\n",
       "*/\n",
       "\n",
       "/* Pipeline and ColumnTransformer style (default) */\n",
       "\n",
       "#sk-container-id-1 div.sk-toggleable {\n",
       "  /* Default theme specific background. It is overwritten whether we have a\n",
       "  specific estimator or a Pipeline/ColumnTransformer */\n",
       "  background-color: var(--sklearn-color-background);\n",
       "}\n",
       "\n",
       "/* Toggleable label */\n",
       "#sk-container-id-1 label.sk-toggleable__label {\n",
       "  cursor: pointer;\n",
       "  display: block;\n",
       "  width: 100%;\n",
       "  margin-bottom: 0;\n",
       "  padding: 0.5em;\n",
       "  box-sizing: border-box;\n",
       "  text-align: center;\n",
       "}\n",
       "\n",
       "#sk-container-id-1 label.sk-toggleable__label-arrow:before {\n",
       "  /* Arrow on the left of the label */\n",
       "  content: \"▸\";\n",
       "  float: left;\n",
       "  margin-right: 0.25em;\n",
       "  color: var(--sklearn-color-icon);\n",
       "}\n",
       "\n",
       "#sk-container-id-1 label.sk-toggleable__label-arrow:hover:before {\n",
       "  color: var(--sklearn-color-text);\n",
       "}\n",
       "\n",
       "/* Toggleable content - dropdown */\n",
       "\n",
       "#sk-container-id-1 div.sk-toggleable__content {\n",
       "  max-height: 0;\n",
       "  max-width: 0;\n",
       "  overflow: hidden;\n",
       "  text-align: left;\n",
       "  /* unfitted */\n",
       "  background-color: var(--sklearn-color-unfitted-level-0);\n",
       "}\n",
       "\n",
       "#sk-container-id-1 div.sk-toggleable__content.fitted {\n",
       "  /* fitted */\n",
       "  background-color: var(--sklearn-color-fitted-level-0);\n",
       "}\n",
       "\n",
       "#sk-container-id-1 div.sk-toggleable__content pre {\n",
       "  margin: 0.2em;\n",
       "  border-radius: 0.25em;\n",
       "  color: var(--sklearn-color-text);\n",
       "  /* unfitted */\n",
       "  background-color: var(--sklearn-color-unfitted-level-0);\n",
       "}\n",
       "\n",
       "#sk-container-id-1 div.sk-toggleable__content.fitted pre {\n",
       "  /* unfitted */\n",
       "  background-color: var(--sklearn-color-fitted-level-0);\n",
       "}\n",
       "\n",
       "#sk-container-id-1 input.sk-toggleable__control:checked~div.sk-toggleable__content {\n",
       "  /* Expand drop-down */\n",
       "  max-height: 200px;\n",
       "  max-width: 100%;\n",
       "  overflow: auto;\n",
       "}\n",
       "\n",
       "#sk-container-id-1 input.sk-toggleable__control:checked~label.sk-toggleable__label-arrow:before {\n",
       "  content: \"▾\";\n",
       "}\n",
       "\n",
       "/* Pipeline/ColumnTransformer-specific style */\n",
       "\n",
       "#sk-container-id-1 div.sk-label input.sk-toggleable__control:checked~label.sk-toggleable__label {\n",
       "  color: var(--sklearn-color-text);\n",
       "  background-color: var(--sklearn-color-unfitted-level-2);\n",
       "}\n",
       "\n",
       "#sk-container-id-1 div.sk-label.fitted input.sk-toggleable__control:checked~label.sk-toggleable__label {\n",
       "  background-color: var(--sklearn-color-fitted-level-2);\n",
       "}\n",
       "\n",
       "/* Estimator-specific style */\n",
       "\n",
       "/* Colorize estimator box */\n",
       "#sk-container-id-1 div.sk-estimator input.sk-toggleable__control:checked~label.sk-toggleable__label {\n",
       "  /* unfitted */\n",
       "  background-color: var(--sklearn-color-unfitted-level-2);\n",
       "}\n",
       "\n",
       "#sk-container-id-1 div.sk-estimator.fitted input.sk-toggleable__control:checked~label.sk-toggleable__label {\n",
       "  /* fitted */\n",
       "  background-color: var(--sklearn-color-fitted-level-2);\n",
       "}\n",
       "\n",
       "#sk-container-id-1 div.sk-label label.sk-toggleable__label,\n",
       "#sk-container-id-1 div.sk-label label {\n",
       "  /* The background is the default theme color */\n",
       "  color: var(--sklearn-color-text-on-default-background);\n",
       "}\n",
       "\n",
       "/* On hover, darken the color of the background */\n",
       "#sk-container-id-1 div.sk-label:hover label.sk-toggleable__label {\n",
       "  color: var(--sklearn-color-text);\n",
       "  background-color: var(--sklearn-color-unfitted-level-2);\n",
       "}\n",
       "\n",
       "/* Label box, darken color on hover, fitted */\n",
       "#sk-container-id-1 div.sk-label.fitted:hover label.sk-toggleable__label.fitted {\n",
       "  color: var(--sklearn-color-text);\n",
       "  background-color: var(--sklearn-color-fitted-level-2);\n",
       "}\n",
       "\n",
       "/* Estimator label */\n",
       "\n",
       "#sk-container-id-1 div.sk-label label {\n",
       "  font-family: monospace;\n",
       "  font-weight: bold;\n",
       "  display: inline-block;\n",
       "  line-height: 1.2em;\n",
       "}\n",
       "\n",
       "#sk-container-id-1 div.sk-label-container {\n",
       "  text-align: center;\n",
       "}\n",
       "\n",
       "/* Estimator-specific */\n",
       "#sk-container-id-1 div.sk-estimator {\n",
       "  font-family: monospace;\n",
       "  border: 1px dotted var(--sklearn-color-border-box);\n",
       "  border-radius: 0.25em;\n",
       "  box-sizing: border-box;\n",
       "  margin-bottom: 0.5em;\n",
       "  /* unfitted */\n",
       "  background-color: var(--sklearn-color-unfitted-level-0);\n",
       "}\n",
       "\n",
       "#sk-container-id-1 div.sk-estimator.fitted {\n",
       "  /* fitted */\n",
       "  background-color: var(--sklearn-color-fitted-level-0);\n",
       "}\n",
       "\n",
       "/* on hover */\n",
       "#sk-container-id-1 div.sk-estimator:hover {\n",
       "  /* unfitted */\n",
       "  background-color: var(--sklearn-color-unfitted-level-2);\n",
       "}\n",
       "\n",
       "#sk-container-id-1 div.sk-estimator.fitted:hover {\n",
       "  /* fitted */\n",
       "  background-color: var(--sklearn-color-fitted-level-2);\n",
       "}\n",
       "\n",
       "/* Specification for estimator info (e.g. \"i\" and \"?\") */\n",
       "\n",
       "/* Common style for \"i\" and \"?\" */\n",
       "\n",
       ".sk-estimator-doc-link,\n",
       "a:link.sk-estimator-doc-link,\n",
       "a:visited.sk-estimator-doc-link {\n",
       "  float: right;\n",
       "  font-size: smaller;\n",
       "  line-height: 1em;\n",
       "  font-family: monospace;\n",
       "  background-color: var(--sklearn-color-background);\n",
       "  border-radius: 1em;\n",
       "  height: 1em;\n",
       "  width: 1em;\n",
       "  text-decoration: none !important;\n",
       "  margin-left: 1ex;\n",
       "  /* unfitted */\n",
       "  border: var(--sklearn-color-unfitted-level-1) 1pt solid;\n",
       "  color: var(--sklearn-color-unfitted-level-1);\n",
       "}\n",
       "\n",
       ".sk-estimator-doc-link.fitted,\n",
       "a:link.sk-estimator-doc-link.fitted,\n",
       "a:visited.sk-estimator-doc-link.fitted {\n",
       "  /* fitted */\n",
       "  border: var(--sklearn-color-fitted-level-1) 1pt solid;\n",
       "  color: var(--sklearn-color-fitted-level-1);\n",
       "}\n",
       "\n",
       "/* On hover */\n",
       "div.sk-estimator:hover .sk-estimator-doc-link:hover,\n",
       ".sk-estimator-doc-link:hover,\n",
       "div.sk-label-container:hover .sk-estimator-doc-link:hover,\n",
       ".sk-estimator-doc-link:hover {\n",
       "  /* unfitted */\n",
       "  background-color: var(--sklearn-color-unfitted-level-3);\n",
       "  color: var(--sklearn-color-background);\n",
       "  text-decoration: none;\n",
       "}\n",
       "\n",
       "div.sk-estimator.fitted:hover .sk-estimator-doc-link.fitted:hover,\n",
       ".sk-estimator-doc-link.fitted:hover,\n",
       "div.sk-label-container:hover .sk-estimator-doc-link.fitted:hover,\n",
       ".sk-estimator-doc-link.fitted:hover {\n",
       "  /* fitted */\n",
       "  background-color: var(--sklearn-color-fitted-level-3);\n",
       "  color: var(--sklearn-color-background);\n",
       "  text-decoration: none;\n",
       "}\n",
       "\n",
       "/* Span, style for the box shown on hovering the info icon */\n",
       ".sk-estimator-doc-link span {\n",
       "  display: none;\n",
       "  z-index: 9999;\n",
       "  position: relative;\n",
       "  font-weight: normal;\n",
       "  right: .2ex;\n",
       "  padding: .5ex;\n",
       "  margin: .5ex;\n",
       "  width: min-content;\n",
       "  min-width: 20ex;\n",
       "  max-width: 50ex;\n",
       "  color: var(--sklearn-color-text);\n",
       "  box-shadow: 2pt 2pt 4pt #999;\n",
       "  /* unfitted */\n",
       "  background: var(--sklearn-color-unfitted-level-0);\n",
       "  border: .5pt solid var(--sklearn-color-unfitted-level-3);\n",
       "}\n",
       "\n",
       ".sk-estimator-doc-link.fitted span {\n",
       "  /* fitted */\n",
       "  background: var(--sklearn-color-fitted-level-0);\n",
       "  border: var(--sklearn-color-fitted-level-3);\n",
       "}\n",
       "\n",
       ".sk-estimator-doc-link:hover span {\n",
       "  display: block;\n",
       "}\n",
       "\n",
       "/* \"?\"-specific style due to the `<a>` HTML tag */\n",
       "\n",
       "#sk-container-id-1 a.estimator_doc_link {\n",
       "  float: right;\n",
       "  font-size: 1rem;\n",
       "  line-height: 1em;\n",
       "  font-family: monospace;\n",
       "  background-color: var(--sklearn-color-background);\n",
       "  border-radius: 1rem;\n",
       "  height: 1rem;\n",
       "  width: 1rem;\n",
       "  text-decoration: none;\n",
       "  /* unfitted */\n",
       "  color: var(--sklearn-color-unfitted-level-1);\n",
       "  border: var(--sklearn-color-unfitted-level-1) 1pt solid;\n",
       "}\n",
       "\n",
       "#sk-container-id-1 a.estimator_doc_link.fitted {\n",
       "  /* fitted */\n",
       "  border: var(--sklearn-color-fitted-level-1) 1pt solid;\n",
       "  color: var(--sklearn-color-fitted-level-1);\n",
       "}\n",
       "\n",
       "/* On hover */\n",
       "#sk-container-id-1 a.estimator_doc_link:hover {\n",
       "  /* unfitted */\n",
       "  background-color: var(--sklearn-color-unfitted-level-3);\n",
       "  color: var(--sklearn-color-background);\n",
       "  text-decoration: none;\n",
       "}\n",
       "\n",
       "#sk-container-id-1 a.estimator_doc_link.fitted:hover {\n",
       "  /* fitted */\n",
       "  background-color: var(--sklearn-color-fitted-level-3);\n",
       "}\n",
       "</style><div id=\"sk-container-id-1\" class=\"sk-top-container\"><div class=\"sk-text-repr-fallback\"><pre>RandomForestClassifier(random_state=42)</pre><b>In a Jupyter environment, please rerun this cell to show the HTML representation or trust the notebook. <br />On GitHub, the HTML representation is unable to render, please try loading this page with nbviewer.org.</b></div><div class=\"sk-container\" hidden><div class=\"sk-item\"><div class=\"sk-estimator fitted sk-toggleable\"><input class=\"sk-toggleable__control sk-hidden--visually\" id=\"sk-estimator-id-1\" type=\"checkbox\" checked><label for=\"sk-estimator-id-1\" class=\"sk-toggleable__label fitted sk-toggleable__label-arrow fitted\">&nbsp;&nbsp;RandomForestClassifier<a class=\"sk-estimator-doc-link fitted\" rel=\"noreferrer\" target=\"_blank\" href=\"https://scikit-learn.org/1.5/modules/generated/sklearn.ensemble.RandomForestClassifier.html\">?<span>Documentation for RandomForestClassifier</span></a><span class=\"sk-estimator-doc-link fitted\">i<span>Fitted</span></span></label><div class=\"sk-toggleable__content fitted\"><pre>RandomForestClassifier(random_state=42)</pre></div> </div></div></div></div>"
      ],
      "text/plain": [
       "RandomForestClassifier(random_state=42)"
      ]
     },
     "execution_count": 46,
     "metadata": {},
     "output_type": "execute_result"
    }
   ],
   "source": [
    "rf_model.fit(X_train, y_train)"
   ]
  },
  {
   "cell_type": "markdown",
   "id": "ad7b3d13-6497-4e38-bd35-f1c9436fc668",
   "metadata": {},
   "source": [
    "# Evaluate Model"
   ]
  },
  {
   "cell_type": "markdown",
   "id": "3e76c4c3-0998-4533-b4d4-61d6eaf22396",
   "metadata": {},
   "source": [
    "## Make predictions"
   ]
  },
  {
   "cell_type": "code",
   "execution_count": 50,
   "id": "f3e34084-b694-40ed-8c5f-95d3c669f50a",
   "metadata": {},
   "outputs": [],
   "source": [
    "y_pred = rf_model.predict(X_test)"
   ]
  },
  {
   "cell_type": "markdown",
   "id": "0cd3587a-5255-4c2a-a15b-69c98b5d657f",
   "metadata": {},
   "source": [
    "## Evaluate the model"
   ]
  },
  {
   "cell_type": "code",
   "execution_count": 53,
   "id": "a120013c-6558-4250-a503-47bae32a1d67",
   "metadata": {},
   "outputs": [
    {
     "name": "stdout",
     "output_type": "stream",
     "text": [
      "Confusion Matrix:\n",
      "[[801  57]\n",
      " [130 214]]\n",
      "\n",
      "Classification Report:\n",
      "              precision    recall  f1-score   support\n",
      "\n",
      "           0       0.86      0.93      0.90       858\n",
      "           1       0.79      0.62      0.70       344\n",
      "\n",
      "    accuracy                           0.84      1202\n",
      "   macro avg       0.83      0.78      0.80      1202\n",
      "weighted avg       0.84      0.84      0.84      1202\n",
      "\n"
     ]
    }
   ],
   "source": [
    "print(\"Confusion Matrix:\")\n",
    "print(confusion_matrix(y_test, y_pred))\n",
    "print(\"\\nClassification Report:\")\n",
    "print(classification_report(y_test, y_pred))"
   ]
  },
  {
   "cell_type": "markdown",
   "id": "20582b4e-1b6b-4633-b385-415dc16d350a",
   "metadata": {},
   "source": [
    "## Feature Selection using Feature Importance"
   ]
  },
  {
   "cell_type": "code",
   "execution_count": 56,
   "id": "f5b4d56c-b577-4ee2-8045-71772b19e290",
   "metadata": {},
   "outputs": [],
   "source": [
    "importances = rf_model.feature_importances_\n",
    "indices = np.argsort(importances)[::-1]"
   ]
  },
  {
   "cell_type": "markdown",
   "id": "a2113fab-9407-4f29-a659-89b1c0a80444",
   "metadata": {},
   "source": [
    "## Plot the feature importances"
   ]
  },
  {
   "cell_type": "code",
   "execution_count": 59,
   "id": "1d9ea25a-e65e-4931-b217-0fb8248b4ac3",
   "metadata": {},
   "outputs": [
    {
     "data": {
      "image/png": "[encoded data removed]",
      "text/plain": [
       "<Figure size 1500x600 with 1 Axes>"
      ]
     },
     "metadata": {},
     "output_type": "display_data"
    }
   ],
   "source": [
    "plt.figure(figsize=(15, 6))\n",
    "sns.barplot(x=importances[indices], y=X.columns[indices])\n",
    "plt.title('Feature Importances')\n",
    "plt.xlabel('Relative Importance')\n",
    "plt.ylabel('Feature Names')\n",
    "plt.show()"
   ]
  },
  {
   "cell_type": "markdown",
   "id": "9ec1ce8b-f790-4d72-9bc9-20d9e311f9f2",
   "metadata": {},
   "source": [
    "# Use Model for Prediction on New Data"
   ]
  },
  {
   "cell_type": "markdown",
   "id": "4790a61d-62cb-4f91-9fe4-f6c04ef97a8f",
   "metadata": {},
   "source": [
    "## Define the path to the Joiner Data Excel file"
   ]
  },
  {
   "cell_type": "code",
   "execution_count": 63,
   "id": "bf71bc1e-689a-41eb-8c92-998f509213ea",
   "metadata": {},
   "outputs": [],
   "source": [
    "file_path = \"Prediction_Data.xlsx\""
   ]
  },
  {
   "cell_type": "markdown",
   "id": "e6f371d1-c33b-4e13-a082-17ebdfbacb96",
   "metadata": {},
   "source": [
    "## Define the sheet name to read data from"
   ]
  },
  {
   "cell_type": "code",
   "execution_count": 66,
   "id": "de75acb0-a9c2-4866-8ceb-a69a19d483d8",
   "metadata": {},
   "outputs": [],
   "source": [
    "sheet_name = 'vw_JoinData'"
   ]
  },
  {
   "cell_type": "markdown",
   "id": "4cfe9407-ce65-4288-8f89-8ed7fedad64d",
   "metadata": {},
   "source": [
    "## Read the data from the specified sheet into a pandas DataFrame"
   ]
  },
  {
   "cell_type": "code",
   "execution_count": 69,
   "id": "ab3feceb-4c9e-4de8-947d-f42f345e0aa1",
   "metadata": {},
   "outputs": [],
   "source": [
    "new_data = pd.read_excel(file_path, sheet_name=sheet_name)"
   ]
  },
  {
   "cell_type": "markdown",
   "id": "d3cfe08c-082e-4d94-b52f-c8ddeb5a757e",
   "metadata": {},
   "source": [
    "## Display the first few rows of the fetched data"
   ]
  },
  {
   "cell_type": "code",
   "execution_count": 72,
   "id": "04055171-91d0-47f2-8117-eea0ede82164",
   "metadata": {},
   "outputs": [
    {
     "name": "stdout",
     "output_type": "stream",
     "text": [
      "  Customer_ID  Gender  Age Married          State  Number_of_Referrals  \\\n",
      "0   94978-PUN  Female   36      No         Punjab                    2   \n",
      "1   95053-UTT  Female   32      No  Uttar Pradesh                   15   \n",
      "2   99855-MAH  Female   50     Yes    Maharashtra                    5   \n",
      "3   99862-BIH  Female   30      No          Bihar                   12   \n",
      "4   99996-HAR    Male   22     Yes        Haryana                    2   \n",
      "\n",
      "   Tenure_in_Months Value_Deal Phone_Service Multiple_Lines  ...  \\\n",
      "0                 8        NaN           Yes             No  ...   \n",
      "1                 2        NaN           Yes            Yes  ...   \n",
      "2                29        NaN           Yes             No  ...   \n",
      "3                 9     Deal 5           Yes             No  ...   \n",
      "4                 8     Deal 5           Yes             No  ...   \n",
      "\n",
      "    Payment_Method Monthly_Charge Total_Charges Total_Refunds  \\\n",
      "0      Credit Card      19.450001     69.250000           0.0   \n",
      "1      Credit Card      24.600000     86.349998           0.0   \n",
      "2  Bank Withdrawal      69.699997    135.199997           0.0   \n",
      "3  Bank Withdrawal      74.000000     74.000000           0.0   \n",
      "4      Credit Card      53.549999     53.549999           0.0   \n",
      "\n",
      "  Total_Extra_Data_Charges Total_Long_Distance_Charges Total_Revenue  \\\n",
      "0                        0                    8.340000     77.589996   \n",
      "1                        0                   78.989998    165.339996   \n",
      "2                        0                   31.340000    166.539993   \n",
      "3                        0                   23.700001     97.699997   \n",
      "4                        0                   16.059999     69.610001   \n",
      "\n",
      "  Customer_Status Churn_Category Churn_Reason  \n",
      "0          Joined         Others       Others  \n",
      "1          Joined         Others       Others  \n",
      "2          Joined         Others       Others  \n",
      "3          Joined         Others       Others  \n",
      "4          Joined         Others       Others  \n",
      "\n",
      "[5 rows x 32 columns]\n"
     ]
    }
   ],
   "source": [
    "print(new_data.head())"
   ]
  },
  {
   "cell_type": "markdown",
   "id": "863e100a-517e-47a7-bf74-7ae6c8a8a6e9",
   "metadata": {},
   "source": [
    "## Retain the original DataFrame to preserve unencoded columns"
   ]
  },
  {
   "cell_type": "code",
   "execution_count": 75,
   "id": "22dbd625-3c60-469f-aae0-858dc31458a0",
   "metadata": {},
   "outputs": [],
   "source": [
    "original_data = new_data.copy()"
   ]
  },
  {
   "cell_type": "markdown",
   "id": "6e32c948-9856-4bce-bb09-0f068432821a",
   "metadata": {},
   "source": [
    "## Retain the Customer_ID column"
   ]
  },
  {
   "cell_type": "code",
   "execution_count": 78,
   "id": "ae8db074-c1af-4786-bbd0-2beeaf8b9e2d",
   "metadata": {},
   "outputs": [],
   "source": [
    "customer_ids = new_data['Customer_ID']"
   ]
  },
  {
   "cell_type": "markdown",
   "id": "f99b47bf-55fa-4391-9eb7-0b2b97888ae1",
   "metadata": {},
   "source": [
    "## Drop columns that won't be used for prediction in the encoded DataFrame"
   ]
  },
  {
   "cell_type": "code",
   "execution_count": 81,
   "id": "7e67fca1-49b9-40b9-bce8-b27189ee31e1",
   "metadata": {},
   "outputs": [],
   "source": [
    "new_data = new_data.drop(['Customer_ID', 'Customer_Status', 'Churn_Category', 'Churn_Reason'], axis=1)"
   ]
  },
  {
   "cell_type": "markdown",
   "id": "2042fda0-196f-4366-a47c-2207d1a50271",
   "metadata": {},
   "source": [
    "## Encode categorical variables using the saved label encoders"
   ]
  },
  {
   "cell_type": "code",
   "execution_count": 84,
   "id": "e7c40be9-d619-4352-a0c4-952050ccfdc7",
   "metadata": {},
   "outputs": [],
   "source": [
    "for column in new_data.select_dtypes(include=['object']).columns:\n",
    "    new_data[column] = label_encoders[column].transform(new_data[column])"
   ]
  },
  {
   "cell_type": "markdown",
   "id": "9e970987-b9c2-4415-bc73-6fa48ec610c8",
   "metadata": {},
   "source": [
    "## Make predictions"
   ]
  },
  {
   "cell_type": "code",
   "execution_count": 87,
   "id": "92267a41-40e6-451d-b3e2-1ed2dcd28b72",
   "metadata": {},
   "outputs": [],
   "source": [
    "new_predictions = rf_model.predict(new_data)"
   ]
  },
  {
   "cell_type": "markdown",
   "id": "c21e7f99-d2d1-4446-ae6a-d46535865401",
   "metadata": {},
   "source": [
    "## Add predictions to the original DataFrame"
   ]
  },
  {
   "cell_type": "code",
   "execution_count": 90,
   "id": "d275a913-c7f2-49fd-9ad6-f6a2f3076013",
   "metadata": {},
   "outputs": [],
   "source": [
    "original_data['Customer_Status_Predicted'] = new_predictions"
   ]
  },
  {
   "cell_type": "markdown",
   "id": "870f6e5b-a56e-49a8-b0c2-8a155db65818",
   "metadata": {},
   "source": [
    "## Filter the DataFrame to include only records predicted as \"Churned\""
   ]
  },
  {
   "cell_type": "code",
   "execution_count": 93,
   "id": "c147b057-cc85-4872-8f48-f31fe947ac74",
   "metadata": {},
   "outputs": [],
   "source": [
    "original_data = original_data[original_data['Customer_Status_Predicted'] == 1]"
   ]
  },
  {
   "cell_type": "markdown",
   "id": "6588d193-6152-4e5d-8d11-58b60addb192",
   "metadata": {},
   "source": [
    "## Save the results"
   ]
  },
  {
   "cell_type": "code",
   "execution_count": 98,
   "id": "1eb46615-cc50-4070-b035-b5f063ee2d58",
   "metadata": {},
   "outputs": [],
   "source": [
    "original_data.to_csv(\"Predictions.csv\", index=False)"
   ]
  },
  {
   "cell_type": "code",
   "execution_count": null,
   "id": "4871a65a-3dc4-46e0-8461-102a7e59befe",
   "metadata": {},
   "outputs": [],
   "source": []
  }
 ],
 "metadata": {
  "kernelspec": {
   "display_name": "Python [conda env:base] *",
   "language": "python",
   "name": "conda-base-py"
  },
  "language_info": {
   "codemirror_mode": {
    "name": "ipython",
    "version": 3
   },
   "file_extension": ".py",
   "mimetype": "text/x-python",
   "name": "python",
   "nbconvert_exporter": "python",
   "pygments_lexer": "ipython3",
   "version": "3.12.7"
  }
 },
 "nbformat": 4,
 "nbformat_minor": 5
}
